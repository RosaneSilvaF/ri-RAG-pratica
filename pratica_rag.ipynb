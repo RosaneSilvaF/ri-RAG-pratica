{
 "cells": [
  {
   "cell_type": "markdown",
   "metadata": {},
   "source": [
    "# 💡 Prática: Sistema RAG — Busca Semântica Manual\n",
    "\n",
    "**Objetivo**: Implementar um sistema Retrieval-Augmented Generation (RAG), realizando busca semântica com cálculo direto de similaridade em NumPy."
   ]
  },
  {
   "cell_type": "markdown",
   "metadata": {},
   "source": [
    "### 📦 Parte 1 – Instalação e Importação de Bibliotecas\n",
    "\n",
    "Execute para instalar as bibliotecas necessárias."
   ]
  },
  {
   "cell_type": "code",
   "execution_count": null,
   "metadata": {},
   "outputs": [],
   "source": [
    "import sys\n",
    "!{sys.executable} -m pip install sentence-transformers\n",
    "!{sys.executable} -m pip install transformers\n",
    "\n",
    "import numpy as np\n",
    "from sentence_transformers import SentenceTransformer\n",
    "from transformers import pipeline"
   ]
  },
  {
   "cell_type": "markdown",
   "metadata": {},
   "source": [
    "### 📚 Parte 2 – Corpus\n",
    "\n",
    "Base de conhecimento sobre Redes de Computadores para consulta."
   ]
  },
  {
   "cell_type": "code",
   "execution_count": null,
   "metadata": {},
   "outputs": [],
   "source": [
    "corpus = [\n",
    "    \"O modelo OSI possui sete camadas, cada uma com responsabilidades distintas.\",\n",
    "    \"A camada de transporte é responsável pela entrega fim a fim e controle de fluxo.\",\n",
    "    \"O protocolo IP é usado para roteamento de pacotes entre redes.\",\n",
    "    \"Firewalls monitoram e controlam o tráfego de entrada e saída de uma rede.\",\n",
    "    \"DNS é um sistema de nomes que traduz nomes de domínio em endereços IP.\",\n",
    "    \"O protocolo TCP garante a entrega confiável e ordenada dos dados.\",\n",
    "    \"A camada de enlace detecta e corrige erros de transmissão no nível de quadros.\",\n",
    "    \"Switches operam na camada de enlace e roteadores na camada de rede.\",\n",
    "    \"A camada de aplicação lida com protocolos como HTTP, FTP e SMTP.\",\n",
    "    \"O endereço MAC é atribuído a interfaces de rede e é único para cada dispositivo.\"\n",
    "]"
   ]
  },
  {
   "cell_type": "markdown",
   "metadata": {},
   "source": [
    "### 🧠 Parte 3 – Geração dos Embeddings\n",
    "\n",
    "Usaremos o modelo `all-MiniLM-L6-v2` para transformar os textos do corpus em vetores.\n",
    "\n",
    "🟨 **Preencha o espaço para gerar os embeddings dos documentos**."
   ]
  },
  {
   "cell_type": "code",
   "execution_count": null,
   "metadata": {},
   "outputs": [],
   "source": [
    "model = SentenceTransformer(\"all-MiniLM-L6-v2\")\n",
    "\n",
    "corpus_embeddings = model.encode(____, convert_to_numpy=True)  # Preencha o ___"
   ]
  },
  {
   "cell_type": "markdown",
   "metadata": {},
   "source": [
    "### 🔍 Parte 4 – Busca Semântica Manual\n",
    "\n",
    "Função para calcular similaridade coseno entre a pergunta e os documentos para encontrar os mais relevantes."
   ]
  },
  {
   "cell_type": "code",
   "execution_count": null,
   "metadata": {},
   "outputs": [],
   "source": [
    "def cosine_similarity(a, b):\n",
    "    return np.dot(a, b) / (np.linalg.norm(a) * np.linalg.norm(b))\n",
    "\n",
    "\n",
    "def buscar_documentos(pergunta, k=3):\n",
    "    pergunta_emb = model.encode([pergunta], convert_to_numpy=True)[0]\n",
    "    similaridades = [cosine_similarity(pergunta_emb, doc_emb) for doc_emb in corpus_embeddings]\n",
    "    indices_ordenados = np.argsort(similaridades)[::-1]\n",
    "    return [corpus[i] for i in indices_ordenados[:k]]"
   ]
  },
  {
   "cell_type": "code",
   "execution_count": null,
   "metadata": {},
   "outputs": [],
   "source": [
    "buscar_documentos(\"Como funciona o protocolo TCP?\")"
   ]
  },
  {
   "cell_type": "markdown",
   "metadata": {},
   "source": [
    "### ✍️ Parte 5 – Geração de Resposta com GPT-2\n",
    "\n",
    "Usaremos o modelo GPT-2 para gerar uma resposta baseada na pergunta e nos documentos mais relevantes.\n",
    "\n",
    "🟨 Código pronto, apenas entenda como funciona."
   ]
  },
  {
   "cell_type": "code",
   "execution_count": null,
   "metadata": {},
   "outputs": [],
   "source": [
    "gerador = pipeline(\"text-generation\", model=\"gpt2\")\n",
    "\n",
    "def responder(pergunta):\n",
    "    trechos = buscar_documentos(pergunta)\n",
    "    contexto = \" \".join(trechos)\n",
    "    prompt = f\"Contexto: {contexto}\\n\\nPergunta: {pergunta}\\nResposta:\"\n",
    "    resposta = gerador(prompt, max_new_tokens=100)[0][\"generated_text\"]\n",
    "    return resposta"
   ]
  },
  {
   "cell_type": "code",
   "execution_count": null,
   "metadata": {},
   "outputs": [],
   "source": [
    "responder(\"Qual a função do protocolo IP?\")"
   ]
  },
  {
   "cell_type": "markdown",
   "metadata": {},
   "source": [
    "### ✅ Parte 6 – Tarefa dos Alunos\n",
    "\n",
    "- Preencha os campos em branco.\n",
    "- Teste a função `responder` com perguntas:\n",
    "  - \"O que faz a camada de aplicação?\"\n",
    "  - \"Qual a função da camada de transporte?\"\n",
    "  - \"O que é um firewall?\""
   ]
  },
  {
   "cell_type": "code",
   "execution_count": null,
   "metadata": {},
   "outputs": [],
   "source": [
    "responder(\"O que faz a camada de aplicação?\")\n",
    "responder(\"Qual a função da camada de transporte?\")\n",
    "responder(\"O que é um firewall?\")"
   ]
  },
  {
   "cell_type": "markdown",
   "metadata": {},
   "source": [
    "### 🧠 Questões para refletir\n",
    "\n",
    "1. Como o contexto influencia a qualidade da geração da resposta?\n",
    "4. O que aconteceria se usássemos outro modelo de geração no lugar do GPT-2?"
   ]
  },
  {
   "cell_type": "markdown",
   "metadata": {},
   "source": [
    "### 🎯 Conclusão\n",
    "\n",
    "Você implementou um sistema RAG simples que faz busca semântica usando NumPy para calcular similaridades. Esse método funciona para bases pequenas e ajuda a entender o funcionamento do RAG."
   ]
  }
 ],
 "metadata": {
  "kernelspec": {
   "display_name": "Python 3",
   "language": "python",
   "name": "python3"
  },
  "language_info": {
   "codemirror_mode": {
    "name": "ipython",
    "version": 3
   },
   "file_extension": ".py",
   "mimetype": "text/x-python",
   "name": "python",
   "nbconvert_exporter": "python",
   "pygments_lexer": "ipython3",
   "version": "3.9.5"
  }
 },
 "nbformat": 4,
 "nbformat_minor": 5
}
